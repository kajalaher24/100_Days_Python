{
  "nbformat": 4,
  "nbformat_minor": 0,
  "metadata": {
    "colab": {
      "provenance": [],
      "authorship_tag": "ABX9TyOUzhWG+EYZVHux/drlsGp5",
      "include_colab_link": true
    },
    "kernelspec": {
      "name": "python3",
      "display_name": "Python 3"
    },
    "language_info": {
      "name": "python"
    }
  },
  "cells": [
    {
      "cell_type": "markdown",
      "metadata": {
        "id": "view-in-github",
        "colab_type": "text"
      },
      "source": [
        "<a href=\"https://colab.research.google.com/github/kajalaher24/100_Days_Python/blob/main/Day3.ipynb\" target=\"_parent\"><img src=\"https://colab.research.google.com/assets/colab-badge.svg\" alt=\"Open In Colab\"/></a>"
      ]
    },
    {
      "cell_type": "code",
      "execution_count": 4,
      "metadata": {
        "colab": {
          "base_uri": "https://localhost:8080/"
        },
        "id": "THGbKfd4r_Pw",
        "outputId": "3d11135b-c6c2-45cd-a543-93545c6e29fe"
      },
      "outputs": [
        {
          "output_type": "stream",
          "name": "stdout",
          "text": [
            "<class 'str'>\n",
            "<class 'int'>\n",
            "<class 'float'>\n",
            "<class 'bool'>\n",
            "<class 'list'>\n",
            "<class 'list'>\n",
            "<class 'dict'>\n"
          ]
        }
      ],
      "source": [
        "a=\"Kajal\"\n",
        "b=24\n",
        "c=19.98\n",
        "d=True\n",
        "e=[1,2,3]\n",
        "f=[5,7,9]\n",
        "g={\"k\":\"Kajal\",\"m\":\"mom\"}\n",
        "print (type(a))\n",
        "print (type(b))\n",
        "print (type(c))\n",
        "print (type(d))\n",
        "print (type(e))\n",
        "print (type(f))\n",
        "print (type(g))"
      ]
    },
    {
      "cell_type": "code",
      "source": [
        "a=\"docker\"\n",
        "b=\"kubernetes\"\n",
        "a,b=b,a\n",
        "print(a,b)"
      ],
      "metadata": {
        "colab": {
          "base_uri": "https://localhost:8080/"
        },
        "id": "dK4REBkns1aj",
        "outputId": "fb4f0c55-4444-4d04-ff0c-b3a175b7b3cf"
      },
      "execution_count": 7,
      "outputs": [
        {
          "output_type": "stream",
          "name": "stdout",
          "text": [
            "kubernetes docker\n"
          ]
        }
      ]
    }
  ]
}