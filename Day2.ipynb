{
  "nbformat": 4,
  "nbformat_minor": 0,
  "metadata": {
    "colab": {
      "provenance": [],
      "authorship_tag": "ABX9TyPQGN+2GsC3+ufQwEJL7gid",
      "include_colab_link": true
    },
    "kernelspec": {
      "name": "python3",
      "display_name": "Python 3"
    },
    "language_info": {
      "name": "python"
    }
  },
  "cells": [
    {
      "cell_type": "markdown",
      "metadata": {
        "id": "view-in-github",
        "colab_type": "text"
      },
      "source": [
        "<a href=\"https://colab.research.google.com/github/kajalaher24/100_Days_Python/blob/main/Day2.ipynb\" target=\"_parent\"><img src=\"https://colab.research.google.com/assets/colab-badge.svg\" alt=\"Open In Colab\"/></a>"
      ]
    },
    {
      "cell_type": "code",
      "execution_count": 5,
      "metadata": {
        "colab": {
          "base_uri": "https://localhost:8080/"
        },
        "id": "CYKEpl6xPYWV",
        "outputId": "8322a0f7-c5a3-4e27-9295-28bba4a672cf"
      },
      "outputs": [
        {
          "output_type": "stream",
          "name": "stdout",
          "text": [
            "Hello Kajal,5,7100"
          ]
        }
      ],
      "source": [
        "print(\"Hello Kajal\",5,7,sep=\",\",end=\"100\")"
      ]
    },
    {
      "cell_type": "code",
      "source": [
        "print (\"Hello World \\n How are you???\")"
      ],
      "metadata": {
        "colab": {
          "base_uri": "https://localhost:8080/"
        },
        "id": "fJhJVDxqX1SB",
        "outputId": "7a7a7fa8-48cc-42d9-edab-191f4d9d1e55"
      },
      "execution_count": 6,
      "outputs": [
        {
          "output_type": "stream",
          "name": "stdout",
          "text": [
            "Hello World \n",
            " How are you???\n"
          ]
        }
      ]
    },
    {
      "cell_type": "code",
      "source": [
        "#Example\n",
        "print(\"This is single line comment!!\")\n",
        "\"\"\"\n",
        "This is multi line comment!!!\n",
        "\"\"\"\n",
        "print (\"This is multi line comment!!\")"
      ],
      "metadata": {
        "colab": {
          "base_uri": "https://localhost:8080/"
        },
        "id": "HmpYNAdVX7v0",
        "outputId": "ebcb5396-91d2-4dde-a86b-15f6436f9c71"
      },
      "execution_count": 7,
      "outputs": [
        {
          "output_type": "stream",
          "name": "stdout",
          "text": [
            "This is single line comment!!\n",
            "This is multi line comment!!\n"
          ]
        }
      ]
    },
    {
      "cell_type": "code",
      "source": [
        "print(\"Name \\tKajal Aher \\n Designation: \\t Devops Engineer \\n Experience: \\t 6 years\")"
      ],
      "metadata": {
        "colab": {
          "base_uri": "https://localhost:8080/"
        },
        "id": "MHehLA3HY8RZ",
        "outputId": "77cc1a13-8d49-49c0-a084-3db81ad731d9"
      },
      "execution_count": 8,
      "outputs": [
        {
          "output_type": "stream",
          "name": "stdout",
          "text": [
            "Name \tKajal Aher \n",
            " Designation: \t Devops Engineer \n",
            " Experience: \t 6 years\n"
          ]
        }
      ]
    },
    {
      "cell_type": "code",
      "source": [
        "print(\"Hey Kajal\\n Lets practice!!\")\n",
        "print ('Let\\'s deploy it')\n",
        "print(\"Let's work on it!\")"
      ],
      "metadata": {
        "colab": {
          "base_uri": "https://localhost:8080/"
        },
        "id": "e1LFWnJOZjyh",
        "outputId": "f02e96d3-7bb7-4ae4-e971-7ec928fc838d"
      },
      "execution_count": 11,
      "outputs": [
        {
          "output_type": "stream",
          "name": "stdout",
          "text": [
            "Hey Kajal\n",
            " Lets practice!!\n",
            "Let's deploy it\n",
            "Let's work on it!\n"
          ]
        }
      ]
    }
  ]
}