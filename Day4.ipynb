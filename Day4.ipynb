{
  "nbformat": 4,
  "nbformat_minor": 0,
  "metadata": {
    "colab": {
      "provenance": [],
      "authorship_tag": "ABX9TyOYSGHzeCu4huRTFSEBOrwi",
      "include_colab_link": true
    },
    "kernelspec": {
      "name": "python3",
      "display_name": "Python 3"
    },
    "language_info": {
      "name": "python"
    }
  },
  "cells": [
    {
      "cell_type": "markdown",
      "metadata": {
        "id": "view-in-github",
        "colab_type": "text"
      },
      "source": [
        "<a href=\"https://colab.research.google.com/github/kajalaher24/100_Days_Python/blob/main/Day4.ipynb\" target=\"_parent\"><img src=\"https://colab.research.google.com/assets/colab-badge.svg\" alt=\"Open In Colab\"/></a>"
      ]
    },
    {
      "cell_type": "code",
      "execution_count": null,
      "metadata": {
        "colab": {
          "base_uri": "https://localhost:8080/"
        },
        "id": "oV10TnGAAQtm",
        "outputId": "720cd3b3-c28b-42bc-e990-43ef5cca976a"
      },
      "outputs": [
        {
          "output_type": "stream",
          "name": "stdout",
          "text": [
            "Welcome Kajal! Let's start calculating\n",
            "Enter first no8\n",
            "Enter second no4\n",
            "Addition of 2 nos is  12\n",
            "Sub of 2 nos is  4\n",
            "Multiplication of 2 nos is  32\n",
            "Division of 2 nos is  2.0\n",
            "Floor Round of 2 nos is  2\n",
            "Raise 2 of 2 nos is  4096\n",
            "Modulo of 2 nos is  0\n"
          ]
        }
      ],
      "source": [
        "print(\"Welcome Kajal! Let's start calculating\")\n",
        "a=int(input(\"Enter first no\"))\n",
        "b=int(input(\"Enter second no\"))\n",
        "c=a+b\n",
        "d=a-b\n",
        "e=a*b\n",
        "f=a/b\n",
        "g=a//b\n",
        "h=a**b\n",
        "i=a%b\n",
        "print(\"Addition of 2 nos is \",c)\n",
        "print(\"Sub of 2 nos is \",d)\n",
        "print(\"Multiplication of 2 nos is \",e)\n",
        "print(\"Division of 2 nos is \",f)\n",
        "print(\"Floor Round of 2 nos is \",g)\n",
        "print(\"Raise 2 of 2 nos is \",h)\n",
        "print(\"Modulo of 2 nos is \",i)"
      ]
    }
  ]
}